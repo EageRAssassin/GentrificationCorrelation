{
  "nbformat": 4,
  "nbformat_minor": 0,
  "metadata": {
    "colab": {
      "name": "ProjectFinalRestaurantScore.ipynb",
      "provenance": [],
      "collapsed_sections": []
    },
    "kernelspec": {
      "name": "python3",
      "display_name": "Python 3"
    }
  },
  "cells": [
    {
      "cell_type": "code",
      "metadata": {
        "id": "ZJ91pQ--lFUB",
        "colab_type": "code",
        "colab": {}
      },
      "source": [
        "import pandas as pd\n",
        "import numpy as np\n",
        "import math\n",
        "import matplotlib.pyplot as plt"
      ],
      "execution_count": 0,
      "outputs": []
    },
    {
      "cell_type": "code",
      "metadata": {
        "id": "hxOO9C9Nl2AG",
        "colab_type": "code",
        "outputId": "de302762-20d9-4193-822a-7efc7505e819",
        "colab": {
          "base_uri": "https://localhost:8080/",
          "height": 34
        }
      },
      "source": [
        "from google.colab import drive\n",
        "drive.mount(\"ORIE4741Project\", force_remount=True)"
      ],
      "execution_count": 15,
      "outputs": [
        {
          "output_type": "stream",
          "text": [
            "Mounted at ORIE4741Project\n"
          ],
          "name": "stdout"
        }
      ]
    },
    {
      "cell_type": "markdown",
      "metadata": {
        "id": "qwmEFBdaun-n",
        "colab_type": "text"
      },
      "source": [
        "# Prediction method"
      ]
    },
    {
      "cell_type": "markdown",
      "metadata": {
        "id": "zmlePoyJrXtR",
        "colab_type": "text"
      },
      "source": [
        "We will first combine the dataset, the features are the zipcode, longitude, latitude, indoor complaint change, cafe change, inspection change. \n",
        "We want to predict two types of lables, \n",
        "The first kind of labels are the catogorized data for the change of housing prices in certain years in a zipcode, catogirized intor 10 bins, <-80%, -80% to -60%, etc. to 60% to 80%, and >100% \n",
        "The second kind of labels are the direct percentage of change of housing prices in certain years in a zipcode."
      ]
    },
    {
      "cell_type": "markdown",
      "metadata": {
        "id": "QV8uASO2sfLi",
        "colab_type": "text"
      },
      "source": [
        "The regression method we will be using are random forest for the categorical change labels, random forest regressor for the percentage labels."
      ]
    },
    {
      "cell_type": "markdown",
      "metadata": {
        "id": "_smhQuips7pn",
        "colab_type": "text"
      },
      "source": [
        "For the data in 2016-2017 change, we will also take 2015-2016 change into the input features.\n",
        "For the data in 2017-2018 change, we will also take 2015-2016 change and 2015-2016 change into the input features."
      ]
    },
    {
      "cell_type": "markdown",
      "metadata": {
        "id": "OmpdrrK2tPX_",
        "colab_type": "text"
      },
      "source": [
        "We will then use our developed and trained model to validate itself by predicting the housing prices change in 2017-2018 in the validation dataset.  "
      ]
    },
    {
      "cell_type": "code",
      "metadata": {
        "id": "JuI9GtGkwFRv",
        "colab_type": "code",
        "colab": {}
      },
      "source": [
        "# x predict y, only considering data from 2015-2016\n",
        "# x : zipcode(int), longitude(double), latitude(double), indoor complaint change(double), cafe change(double), inspection change(double)\n",
        "# y : housing price change(double)\n",
        "# try to predict on 2016-2017, and see the error rate\n",
        "\n",
        "# x predict y, only considering data from 2016-2017\n",
        "# x : zipcode(int), longitude(double), latitude(double), indoor complaint change(double), cafe change(double), inspection change(double)\n",
        "# y : housing price change(double)2016-2017\n",
        "# try to predict on 2017-2018, and see the error rate\n",
        "# try use another x with 2015-2016 data\n",
        "# x : zipcode(int), longitude(double), latitude(double), indoor complaint change(double)[15-16, 16-17], cafe change(double)[15-16, 16-17], inspection change(double)[15-16, 16-17]\n",
        "# y : housing price change(double)2016-2017\n",
        "# try to predict on 2017-2018, and see the error rate"
      ],
      "execution_count": 0,
      "outputs": []
    },
    {
      "cell_type": "markdown",
      "metadata": {
        "id": "P8VHCu_B3fkK",
        "colab_type": "text"
      },
      "source": [
        "# Import all the data\n",
        "# Indoor complaint"
      ]
    },
    {
      "cell_type": "code",
      "metadata": {
        "id": "47bMZNB23dxC",
        "colab_type": "code",
        "outputId": "939ae900-9906-454b-ca55-9a1ab29c7af1",
        "colab": {
          "base_uri": "https://localhost:8080/",
          "height": 255
        }
      },
      "source": [
        "indoor_complaint = pd.read_csv(\"/content/ORIE4741Project/My Drive/ORIE4741Project/Data/New Data/DOHMH_Indoor_Environmental_Complaints.csv\", encoding='latin-1')\n",
        "\n",
        "indoor_complaint['Year_After_2015'] = indoor_complaint.Date_Received.str.contains('2015') | indoor_complaint.Date_Received.str.contains('2016') | indoor_complaint.Date_Received.str.contains('2017')| indoor_complaint.Date_Received.str.contains('2018')\n",
        "indoor_complaint = indoor_complaint[indoor_complaint['Year_After_2015']]\n",
        "\n",
        "indoor_complaint = indoor_complaint[indoor_complaint.Latitude.notnull()]\n",
        "indoor_complaint = indoor_complaint[indoor_complaint.Longitude.notnull()]\n",
        "indoor_complaint = indoor_complaint.drop(['Year_After_2015'], axis = 1)\n",
        "\n",
        "years = indoor_complaint.Date_Received\n",
        "indoor_complaint['year'] = years.apply(lambda x: x[6:10])\n",
        "\n",
        "indoor_complaint_by_zipcode = indoor_complaint.groupby(['Incident_Address_Zip', 'year']).count()[['Complaint_Number']]\n",
        "indoor_complaint_by_zipcode = indoor_complaint_by_zipcode.reset_index()\n",
        "\n",
        "zipcodes = indoor_complaint_by_zipcode.groupby('Incident_Address_Zip')['Incident_Address_Zip'].unique()\n",
        "zipcodes_year_count = indoor_complaint_by_zipcode.groupby('Incident_Address_Zip')['Incident_Address_Zip'].count()\n",
        "indoor_complaint_change = pd.DataFrame(columns=['Zipcode', '2016_change', '2017_change','2018_change'])\n",
        "indoor_complaint_by_zipcode.loc[(indoor_complaint_by_zipcode['Incident_Address_Zip'] == '10000') & (indoor_complaint_by_zipcode['year'] == '2016')]['Complaint_Number'][0]\n",
        "\n",
        "for z in zipcodes:\n",
        "  # check if zipcode valid\n",
        "  if len(z[0]) == 5:\n",
        "    # if all four years data exist\n",
        "    if zipcodes_year_count[z[0]] == 4:\n",
        "      # complaint_2015 = indoor_complaint_by_zipcode.at()\n",
        "      complaint_2015 = indoor_complaint_by_zipcode.loc[(indoor_complaint_by_zipcode['Incident_Address_Zip'] == z[0]) & (indoor_complaint_by_zipcode['year'] == '2015')]['Complaint_Number']\n",
        "      complaint_2016 = indoor_complaint_by_zipcode.loc[(indoor_complaint_by_zipcode['Incident_Address_Zip'] == z[0]) & (indoor_complaint_by_zipcode['year'] == '2016')]['Complaint_Number']\n",
        "      complaint_2017 = indoor_complaint_by_zipcode.loc[(indoor_complaint_by_zipcode['Incident_Address_Zip'] == z[0]) & (indoor_complaint_by_zipcode['year'] == '2017')]['Complaint_Number']\n",
        "      complaint_2018 = indoor_complaint_by_zipcode.loc[(indoor_complaint_by_zipcode['Incident_Address_Zip'] == z[0]) & (indoor_complaint_by_zipcode['year'] == '2018')]['Complaint_Number']\n",
        "      change_2016 = complaint_2016.iloc[0] / complaint_2015.iloc[0] - 1\n",
        "      change_2017 = complaint_2017.iloc[0] / complaint_2016.iloc[0] - 1\n",
        "      change_2018 = complaint_2018.iloc[0] / complaint_2017.iloc[0] - 1\n",
        "    # one of the four years data exist\n",
        "    else:\n",
        "      change_2016 = 0\n",
        "      change_2017 = 0\n",
        "      change_2018 = 0\n",
        "    indoor_complaint_change = indoor_complaint_change.append({'Zipcode': z[0], '2016_change': change_2016, '2017_change': change_2017, '2018_change': change_2018}, ignore_index=True)\n",
        "\n",
        "print(indoor_complaint_change)"
      ],
      "execution_count": 17,
      "outputs": [
        {
          "output_type": "stream",
          "text": [
            "    Zipcode 2016_change 2017_change 2018_change\n",
            "0     10000           0           0           0\n",
            "1     10001   -0.333333  -0.0454545    0.833333\n",
            "2     10002    0.254717   -0.293233   -0.287234\n",
            "3     10003   0.0898876   -0.154639    0.304878\n",
            "4     10004       -0.25    0.666667         2.2\n",
            "..      ...         ...         ...         ...\n",
            "205   11691    0.333333    0.428571        -0.1\n",
            "206   11692   -0.153846           0  -0.0909091\n",
            "207   11693   -0.166667         1.4     1.41667\n",
            "208   11694   0.0666667     -0.0625     1.26667\n",
            "209   11697           0           0           0\n",
            "\n",
            "[210 rows x 4 columns]\n"
          ],
          "name": "stdout"
        }
      ]
    },
    {
      "cell_type": "markdown",
      "metadata": {
        "id": "rpqX9fbs5aTp",
        "colab_type": "text"
      },
      "source": [
        "# Import cafe data"
      ]
    },
    {
      "cell_type": "code",
      "metadata": {
        "id": "L_EdYcp15loh",
        "colab_type": "code",
        "outputId": "7ea8b0dc-b720-4a36-bce5-c36016b2fc87",
        "colab": {
          "base_uri": "https://localhost:8080/",
          "height": 255
        }
      },
      "source": [
        "cafe = pd.read_csv(\"/content/ORIE4741Project/My Drive/ORIE4741Project/Data/New Data/Sidewalk_Caf__Licenses_and_Applications.csv\")\n",
        "cafe_clean = cafe[cafe[\"LIC_STATUS\"] == \"Active\"][[\"ZIP\", \"SUBMIT_DATE\"]]\n",
        "cafe_clean[\"year\"] = pd.DatetimeIndex(cafe_clean['SUBMIT_DATE']).year\n",
        "cafe_clean = cafe_clean.groupby(['ZIP', 'year']).count()[['SUBMIT_DATE']]\n",
        "cafe_clean = cafe_clean.reset_index()\n",
        "zipcodes = cafe_clean.groupby('ZIP')['ZIP'].unique()\n",
        "zipcodes_year_count = cafe_clean.groupby('ZIP')['ZIP'].count()\n",
        "cafe_change = pd.DataFrame(columns=['Zipcode', '2016_change', '2017_change','2018_change'])\n",
        "# cafe_clean.loc[(cafe_clean['ZIP'] == '10000') & (cafe_clean['year'] == 2016)]['SUBMIT_DATE'][0]\n",
        "for z in zipcodes:\n",
        "  # check if zipcode valid\n",
        "  if z[0] >= 10000:\n",
        "    # if all four years data exist\n",
        "    if zipcodes_year_count[z[0]] >= 4:\n",
        "      # complaint_2015 = indoor_complaint_by_zipcode.at()\n",
        "      try:\n",
        "        cafe_2015 = cafe_clean.loc[(cafe_clean['ZIP'] == z[0]) & (cafe_clean['year'] == 2015)]['SUBMIT_DATE']\n",
        "      except: \n",
        "        cafe_2015 = 0\n",
        "      try: \n",
        "        cafe_2016 = cafe_clean.loc[(cafe_clean['ZIP'] == z[0]) & (cafe_clean['year'] == 2016)]['SUBMIT_DATE']\n",
        "      except:\n",
        "        cafe_2016 = 0\n",
        "      try:\n",
        "        cafe_2017 = cafe_clean.loc[(cafe_clean['ZIP'] == z[0]) & (cafe_clean['year'] == 2017)]['SUBMIT_DATE']\n",
        "      except:\n",
        "        cafe_2017 =0\n",
        "      try:\n",
        "        cafe_2018 = cafe_clean.loc[(cafe_clean['ZIP'] == z[0]) & (cafe_clean['year'] == 2018)]['SUBMIT_DATE']\n",
        "      except:\n",
        "        cafe_2018 = 0\n",
        "      try:\n",
        "        change_2016 = (cafe_2016.iloc[0]-cafe_2015.iloc[0]) / cafe_2015.iloc[0]\n",
        "      except: \n",
        "        change_2016 = 0\n",
        "      try: \n",
        "        change_2017 = (cafe_2017.iloc[0]-cafe_2016.iloc[0]) / cafe_2016.iloc[0]\n",
        "      except:\n",
        "        change_2017 = 0\n",
        "      try:\n",
        "        change_2018 = (cafe_2018.iloc[0]-cafe_2017.iloc[0]) / cafe_2017.iloc[0]\n",
        "      except:\n",
        "        change_2018 = 0\n",
        "\n",
        "      \n",
        "    # one of the four years data exist\n",
        "    else:\n",
        "      change_2016 = 0\n",
        "      change_2017 = 0\n",
        "      change_2018 = 0\n",
        "    cafe_change = cafe_change.append({'Zipcode': z[0], '2016_change': change_2016, '2017_change': change_2017, '2018_change': change_2018}, ignore_index=True)\n",
        "\n",
        "print(cafe_change)"
      ],
      "execution_count": 18,
      "outputs": [
        {
          "output_type": "stream",
          "text": [
            "   Zipcode 2016_change 2017_change 2018_change\n",
            "0    10001           0           0           0\n",
            "1    10002           0           0           0\n",
            "2    10003           0           0         5.2\n",
            "3    10004           0           0           0\n",
            "4    10006           0           0           0\n",
            "..     ...         ...         ...         ...\n",
            "87   11375           0           0           0\n",
            "88   11377           0           0           0\n",
            "89   11379           0           0           0\n",
            "90   11421           0           0           0\n",
            "91   11432           0           0           0\n",
            "\n",
            "[92 rows x 4 columns]\n"
          ],
          "name": "stdout"
        }
      ]
    },
    {
      "cell_type": "markdown",
      "metadata": {
        "id": "HmIXsmcd5lzx",
        "colab_type": "text"
      },
      "source": [
        "# Import housing price data"
      ]
    },
    {
      "cell_type": "code",
      "metadata": {
        "id": "dhN5WbX55obp",
        "colab_type": "code",
        "outputId": "9e31f2b2-5df5-4a52-f912-36f47c3ac29c",
        "colab": {
          "base_uri": "https://localhost:8080/",
          "height": 255
        }
      },
      "source": [
        "rent = pd.read_excel(\"/content/ORIE4741Project/My Drive/ORIE4741Project/Data/New Data/Zillow Rent Prices.xls\")\n",
        "rent_clean = rent.drop([0, 1, 2])\n",
        "rent_clean = rent_clean.rename(columns={\"New York, NY - All Homes\": \"zipcode\", \"Unnamed: 48\": \"year over year\"})\n",
        "rent_by_zipcode = rent_clean[[\"zipcode\", \"year over year\"]]\n",
        "print(rent_by_zipcode)"
      ],
      "execution_count": 19,
      "outputs": [
        {
          "output_type": "stream",
          "text": [
            "    zipcode year over year\n",
            "3     10001        0.12936\n",
            "4     10002       0.112807\n",
            "5     10003     -0.0939048\n",
            "6     10004       0.125864\n",
            "7     10005      0.0695574\n",
            "..      ...            ...\n",
            "184   11691              0\n",
            "185   11692    -0.00656234\n",
            "186   11693     -0.0114943\n",
            "187   11694    -0.00701139\n",
            "188   11697     -0.0285855\n",
            "\n",
            "[186 rows x 2 columns]\n"
          ],
          "name": "stdout"
        }
      ]
    },
    {
      "cell_type": "code",
      "metadata": {
        "id": "hFk4O8jKWYlx",
        "colab_type": "code",
        "outputId": "5bb7a86d-7c7d-4ca5-be88-0714e2c2e345",
        "colab": {
          "base_uri": "https://localhost:8080/",
          "height": 173
        }
      },
      "source": [
        "rent_by_zipcode.describe()"
      ],
      "execution_count": 20,
      "outputs": [
        {
          "output_type": "execute_result",
          "data": {
            "text/html": [
              "<div>\n",
              "<style scoped>\n",
              "    .dataframe tbody tr th:only-of-type {\n",
              "        vertical-align: middle;\n",
              "    }\n",
              "\n",
              "    .dataframe tbody tr th {\n",
              "        vertical-align: top;\n",
              "    }\n",
              "\n",
              "    .dataframe thead th {\n",
              "        text-align: right;\n",
              "    }\n",
              "</style>\n",
              "<table border=\"1\" class=\"dataframe\">\n",
              "  <thead>\n",
              "    <tr style=\"text-align: right;\">\n",
              "      <th></th>\n",
              "      <th>zipcode</th>\n",
              "      <th>year over year</th>\n",
              "    </tr>\n",
              "  </thead>\n",
              "  <tbody>\n",
              "    <tr>\n",
              "      <th>count</th>\n",
              "      <td>186</td>\n",
              "      <td>186</td>\n",
              "    </tr>\n",
              "    <tr>\n",
              "      <th>unique</th>\n",
              "      <td>186</td>\n",
              "      <td>185</td>\n",
              "    </tr>\n",
              "    <tr>\n",
              "      <th>top</th>\n",
              "      <td>11103</td>\n",
              "      <td>---</td>\n",
              "    </tr>\n",
              "    <tr>\n",
              "      <th>freq</th>\n",
              "      <td>1</td>\n",
              "      <td>2</td>\n",
              "    </tr>\n",
              "  </tbody>\n",
              "</table>\n",
              "</div>"
            ],
            "text/plain": [
              "       zipcode year over year\n",
              "count      186            186\n",
              "unique     186            185\n",
              "top      11103            ---\n",
              "freq         1              2"
            ]
          },
          "metadata": {
            "tags": []
          },
          "execution_count": 20
        }
      ]
    },
    {
      "cell_type": "markdown",
      "metadata": {
        "id": "z8pageQY5upo",
        "colab_type": "text"
      },
      "source": [
        "# Regression Method\n",
        "## generate the data"
      ]
    },
    {
      "cell_type": "code",
      "metadata": {
        "id": "4vU3YbYDPtkO",
        "colab_type": "code",
        "outputId": "21ce6a85-e3b1-4866-f562-8e2bf1b7fb17",
        "colab": {
          "base_uri": "https://localhost:8080/",
          "height": 241
        }
      },
      "source": [
        "!pip install uszipcode"
      ],
      "execution_count": 21,
      "outputs": [
        {
          "output_type": "stream",
          "text": [
            "Requirement already satisfied: uszipcode in /usr/local/lib/python3.6/dist-packages (0.2.4)\n",
            "Requirement already satisfied: attrs in /usr/local/lib/python3.6/dist-packages (from uszipcode) (19.3.0)\n",
            "Requirement already satisfied: requests in /usr/local/lib/python3.6/dist-packages (from uszipcode) (2.21.0)\n",
            "Requirement already satisfied: pathlib-mate in /usr/local/lib/python3.6/dist-packages (from uszipcode) (0.0.15)\n",
            "Requirement already satisfied: sqlalchemy in /usr/local/lib/python3.6/dist-packages (from uszipcode) (1.3.11)\n",
            "Requirement already satisfied: urllib3<1.25,>=1.21.1 in /usr/local/lib/python3.6/dist-packages (from requests->uszipcode) (1.24.3)\n",
            "Requirement already satisfied: chardet<3.1.0,>=3.0.2 in /usr/local/lib/python3.6/dist-packages (from requests->uszipcode) (3.0.4)\n",
            "Requirement already satisfied: certifi>=2017.4.17 in /usr/local/lib/python3.6/dist-packages (from requests->uszipcode) (2019.11.28)\n",
            "Requirement already satisfied: idna<2.9,>=2.5 in /usr/local/lib/python3.6/dist-packages (from requests->uszipcode) (2.8)\n",
            "Requirement already satisfied: six in /usr/local/lib/python3.6/dist-packages (from pathlib-mate->uszipcode) (1.12.0)\n",
            "Requirement already satisfied: autopep8 in /usr/local/lib/python3.6/dist-packages (from pathlib-mate->uszipcode) (1.4.4)\n",
            "Requirement already satisfied: pycodestyle>=2.4.0 in /usr/local/lib/python3.6/dist-packages (from autopep8->pathlib-mate->uszipcode) (2.5.0)\n"
          ],
          "name": "stdout"
        }
      ]
    },
    {
      "cell_type": "code",
      "metadata": {
        "id": "1jPf_AOZocjF",
        "colab_type": "code",
        "colab": {}
      },
      "source": [
        "from sklearn.model_selection import train_test_split\n",
        "from uszipcode import Zipcode, SearchEngine\n",
        "\n",
        "bins = [-np.inf, -0.08, -0.06, -0.04, -0.02, 0, 0.02, 0.04, 0.06, 0.08, np.inf]\n",
        "ranges = [1, 2, 3, 4, 5, 6, 7, 8, 9, 10]\n",
        "# create a new column of median range\n",
        "rent_by_zipcode = rent_by_zipcode.replace('---', '0')\n",
        "rent_by_zipcode['year over year'] = rent_by_zipcode['year over year'].astype(float)\n",
        "rent_by_zipcode['PriceChange'] = pd.cut(rent_by_zipcode['year over year'], bins, labels=ranges)\n",
        "rent_by_zipcode = rent_by_zipcode.dropna()\n",
        "\n",
        "indoor_complaint_change_renamed = indoor_complaint_change.rename(columns={\"2016_change\": \"icc2016_change\", \"2017_change\": \"icc2017_change\",\"2018_change\": \"icc2018_change\"})\n",
        "cafe_change_renamed = cafe_change.rename(columns={\"2016_change\": \"cc2016_change\", \"2017_change\": \"cc2017_change\",\"2018_change\": \"cc2018_change\"})\n",
        "\n",
        "# general_table = pd.merge(indoor_complaint_change_renamed, cafe_change_renamed, left_on='Zipcode', right_on='Zipcode', how='left')\n",
        "general_table = pd.merge(indoor_complaint_change_renamed, rent_by_zipcode, left_on='Zipcode', right_on='zipcode', how='left')\n",
        "general_table = general_table.dropna()\n",
        "\n",
        "# add longitude and latitude data to data table\n",
        "search = SearchEngine(simple_zipcode=True)\n",
        "\n",
        "zipcode_data = search.by_zipcode(\"10001\").to_dict()\n",
        "\n",
        "lng_list = []\n",
        "lat_list = []\n",
        "for index, row in general_table.iterrows():\n",
        "  zipcode_data = search.by_zipcode(row[\"Zipcode\"]).to_dict()\n",
        "  lng = zipcode_data['lng']\n",
        "  lat = zipcode_data['lat']\n",
        "  lng_list.append(lng)\n",
        "  lat_list.append(lat)\n",
        "\n",
        "general_table.insert(1, \"longtitude\", lng_list) \n",
        "general_table.insert(2, \"latitude\", lat_list) \n",
        "general_table['Zipcode'] = general_table['Zipcode'].astype(int)\n",
        "\n",
        "general_table = general_table.dropna()"
      ],
      "execution_count": 0,
      "outputs": []
    },
    {
      "cell_type": "code",
      "metadata": {
        "id": "q9xdZrzvXzff",
        "colab_type": "code",
        "outputId": "9f44daa8-092c-417e-a04c-899250ecbb64",
        "colab": {
          "base_uri": "https://localhost:8080/",
          "height": 119
        }
      },
      "source": [
        "kaggle_income = pd.read_csv(\"/content/ORIE4741Project/My Drive/ORIE4741Project/Data/kaggle_income.csv\", encoding='latin-1')\n",
        "nyc_income = kaggle_income[kaggle_income['City'] == 'New York']\n",
        "nyc_income = nyc_income[nyc_income['State_Name'] == \"New York\"]\n",
        "restaurant_inspection = pd.read_csv(\"/content/ORIE4741Project/My Drive/ORIE4741Project/Data/DOHMH_New_York_City_Restaurant_Inspection_Results.csv\", encoding='latin-1')\n",
        "restaurant_inspection['ZIPCODE'] = restaurant_inspection['ZIPCODE'].fillna(0.0).astype(int)\n",
        "restaurant_inspection['SCORE'] =  restaurant_inspection['SCORE'].dropna()\n",
        "inspection_by_zipcode = restaurant_inspection.groupby([\"ZIPCODE\"]).mean()[['SCORE']]\n",
        "income_inspection_by_zipcode = pd.merge(left=inspection_by_zipcode,right=nyc_income, left_on='ZIPCODE', right_on='Zip_Code')\n",
        "\n",
        "nyc_restaurant_week = pd.read_csv(\"/content/ORIE4741Project/My Drive/ORIE4741Project/Data/restaurant_week_2018.csv\", encoding='latin-1')\n",
        "nyc_restaurant_week = nyc_restaurant_week.drop(['google_map','website','description','phone'], axis=1)\n",
        "nyc_restaurant_week = nyc_restaurant_week.dropna()\n",
        "nyc_restaurant_week[\"postal_code\"] = nyc_restaurant_week[\"postal_code\"].dropna().astype(int)\n",
        "nyc_restaurant_week['average_review'] =  nyc_restaurant_week['average_review'].dropna()\n",
        "rating_by_zipcode = nyc_restaurant_week.groupby([\"postal_code\"]).mean()[['average_review']]\n",
        "\n",
        "income_inspection_rating_by_zipcode = pd.merge(left=income_inspection_by_zipcode,right=rating_by_zipcode, left_on='Zip_Code', right_on='postal_code')\n",
        "\n",
        "bins = [0, 50000, 100000, 150000, 200000, 250000, 300000, np.inf]\n",
        "ranges = [1, 2, 3, 4, 5, 6, 7]\n",
        "income_inspection_rating_by_zipcode['IncomeMedianRange'] = pd.cut(income_inspection_rating_by_zipcode['Median'], bins, labels=ranges)\n",
        "income_inspection_rating_by_zipcode = income_inspection_rating_by_zipcode.dropna()\n",
        "income_inspection_rating_by_zipcode = income_inspection_rating_by_zipcode[['Zip_Code', 'Median', 'IncomeMedianRange', 'average_review', 'SCORE']]\n",
        "\n",
        "print(income_inspection_rating_by_zipcode.head())"
      ],
      "execution_count": 23,
      "outputs": [
        {
          "output_type": "stream",
          "text": [
            "   Zip_Code  Median IncomeMedianRange  average_review      SCORE\n",
            "0     10001   40262                 1        4.501787  18.908554\n",
            "1     10002   91469                 2        4.605711  19.714524\n",
            "2     10002  300000                 6        4.605711  19.714524\n",
            "3     10002   17698                 1        4.605711  19.714524\n",
            "4     10002   77632                 2        4.605711  19.714524\n"
          ],
          "name": "stdout"
        }
      ]
    },
    {
      "cell_type": "code",
      "metadata": {
        "id": "Bw9RS0Quac--",
        "colab_type": "code",
        "outputId": "3f22b157-3130-472a-def8-3f1c7dbaa342",
        "colab": {
          "base_uri": "https://localhost:8080/",
          "height": 34
        }
      },
      "source": [
        "new_table = pd.merge(general_table, income_inspection_rating_by_zipcode, left_on='Zipcode', right_on='Zip_Code', how='left')\n",
        "new_table = new_table.dropna()\n",
        "print(new_table.shape)"
      ],
      "execution_count": 24,
      "outputs": [
        {
          "output_type": "stream",
          "text": [
            "(102, 14)\n"
          ],
          "name": "stdout"
        }
      ]
    },
    {
      "cell_type": "code",
      "metadata": {
        "id": "apAK42Z2tNHP",
        "colab_type": "code",
        "colab": {
          "base_uri": "https://localhost:8080/",
          "height": 309
        },
        "outputId": "6139ee8a-d2b4-4605-fc63-6d6eefd7aa76"
      },
      "source": [
        "rest_rev = pd.read_csv(\"/content/ORIE4741Project/My Drive/ORIE4741Project/Data/New Data/DOHMH_New_York_City_Restaurant_Inspection_Results.csv\", encoding='latin-1')\n",
        "rest_rev[\"ryear\"] = pd.DatetimeIndex(rest_rev['INSPECTION DATE']).year\n",
        "rest_rev_by_zipcode = rest_rev.groupby(['ZIPCODE', 'ryear']).mean()[['SCORE']]\n",
        "rest_rev_by_zipcode = rest_rev_by_zipcode.reset_index()\n",
        "zipcodes = rest_rev_by_zipcode.groupby('ZIPCODE')['ZIPCODE'].unique()\n",
        "zipcodes_year_count = rest_rev_by_zipcode.groupby('ZIPCODE')['ZIPCODE'].count()\n",
        "rest_change = pd.DataFrame(columns=['ZIPCODE', '2016_change', '2017_change','2018_change'])\n",
        "\n",
        "for z in zipcodes:\n",
        "  # check if zipcode valid\n",
        "  if z[0] >= 10000:\n",
        "    # if all four years data exist\n",
        "    if zipcodes_year_count[z[0]] >= 4:\n",
        "      # complaint_2015 = indoor_complaint_by_zipcode.at()\n",
        "      try:\n",
        "        rest_2015 = rest_rev_by_zipcode.loc[(rest_rev_by_zipcode['ZIPCODE'] == z[0]) & (rest_rev_by_zipcode['ryear'] == 2015)]['SCORE']\n",
        "      except: \n",
        "        rest_2015 = 0\n",
        "      try: \n",
        "        rest_2016 = rest_rev_by_zipcode.loc[(rest_rev_by_zipcode['ZIPCODE'] == z[0]) & (rest_rev_by_zipcode['ryear'] == 2016)]['SCORE']\n",
        "        \n",
        "      except:\n",
        "        rest_2016 = 0\n",
        "      try:\n",
        "        rest_2017 = rest_rev_by_zipcode.loc[(rest_rev_by_zipcode['ZIPCODE'] == z[0]) & (rest_rev_by_zipcode['ryear'] == 2017)]['SCORE']\n",
        "        \n",
        "      except:\n",
        "        rest_2017 =0\n",
        "      try:\n",
        "        rest_2018 = rest_rev_by_zipcode.loc[(rest_rev_by_zipcode['ZIPCODE'] == z[0]) & (rest_rev_by_zipcode['ryear'] == 2018)]['SCORE']\n",
        "      except:\n",
        "        rest_2018 = 0\n",
        "      try:\n",
        "        change_2016 = (rest_2016.iloc[0]-rest_2015.iloc[0]) / rest_2015.iloc[0]\n",
        "        assert(not math.isinf(change_2016))\n",
        "      except: \n",
        "        change_2016 = 0\n",
        "      try: \n",
        "        change_2017 = (rest_2017.iloc[0]-rest_2016.iloc[0]) / rest_2016.iloc[0]\n",
        "        assert(not math.isinf(change_2017))\n",
        "      except:\n",
        "        change_2017 = 0\n",
        "      try:\n",
        "        change_2018 = (rest_2018.iloc[0]-rest_2017.iloc[0]) / rest_2017.iloc[0]\n",
        "        assert(not math.isinf(change_2018))\n",
        "      except:\n",
        "        change_2018 = 0\n",
        "\n",
        "      \n",
        "    # one of the four years data exist\n",
        "    else:\n",
        "      change_2016 = 0\n",
        "      change_2017 = 0\n",
        "      change_2018 = 0\n",
        "    rest_change = rest_change.append({'ZIPCODE': z[0], '2016_change': change_2016, '2017_change': change_2017, '2018_change': change_2018}, ignore_index=True)\n",
        "rest_change['ZIPCODE'] = rest_change['ZIPCODE'].astype(int)\n",
        "new_table = pd.merge(new_table, rest_change, left_on='Zipcode', right_on='ZIPCODE', how='left')\n",
        "new_table = new_table.dropna()\n",
        "print(new_table.shape)\n",
        "print(new_table)"
      ],
      "execution_count": 25,
      "outputs": [
        {
          "output_type": "stream",
          "text": [
            "/usr/local/lib/python3.6/dist-packages/ipykernel_launcher.py:34: RuntimeWarning: divide by zero encountered in double_scalars\n"
          ],
          "name": "stderr"
        },
        {
          "output_type": "stream",
          "text": [
            "(102, 18)\n",
            "     Zipcode  longtitude  latitude  ... 2016_change 2017_change 2018_change\n",
            "0      10001     -73.990    40.750  ...    0.000000    0.036433    0.076492\n",
            "1      10002     -73.990    40.720  ...    1.361153    0.120018    0.079009\n",
            "2      10002     -73.990    40.720  ...    1.361153    0.120018    0.079009\n",
            "3      10002     -73.990    40.720  ...    1.361153    0.120018    0.079009\n",
            "4      10002     -73.990    40.720  ...    1.361153    0.120018    0.079009\n",
            "..       ...         ...       ...  ...         ...         ...         ...\n",
            "97     10128     -73.950    40.780  ...    0.000000    0.114572   -0.063232\n",
            "98     10128     -73.950    40.780  ...    0.000000    0.114572   -0.063232\n",
            "99     10128     -73.950    40.780  ...    0.000000    0.114572   -0.063232\n",
            "100    10128     -73.950    40.780  ...    0.000000    0.114572   -0.063232\n",
            "101    10282     -74.015    40.716  ...    0.000000    0.179316    0.064212\n",
            "\n",
            "[102 rows x 18 columns]\n"
          ],
          "name": "stdout"
        }
      ]
    },
    {
      "cell_type": "code",
      "metadata": {
        "id": "t4aJ22BYbSBG",
        "colab_type": "code",
        "colab": {}
      },
      "source": [
        "# split the features and labels\n",
        "features = np.array(new_table[['average_review', \"longtitude\", \"latitude\", \"icc2016_change\", \"icc2017_change\", \"icc2018_change\", '2016_change', '2017_change', '2018_change']])\n",
        "labels = np.array(new_table[\"PriceChange\"])\n",
        "train_features, test_features, train_labels, test_labels = train_test_split(features, labels, test_size = 0.2, random_state = 42)"
      ],
      "execution_count": 0,
      "outputs": []
    },
    {
      "cell_type": "code",
      "metadata": {
        "id": "XBVVj9msbdZG",
        "colab_type": "code",
        "outputId": "b327bc1b-7914-484e-a9ff-1997d795d65b",
        "colab": {
          "base_uri": "https://localhost:8080/",
          "height": 136
        }
      },
      "source": [
        "from sklearn.ensemble import RandomForestClassifier \n",
        "rfc = RandomForestClassifier(n_estimators = 300, max_depth=10, random_state = 10) \n",
        "# fit the regressor with x and y data \n",
        "rfc.fit(train_features, train_labels) \n",
        "print(rfc.feature_importances_)\n",
        "# Use the forest's predict method on the test data\n",
        "predictions = rfc.predict(test_features)\n",
        "# Calculate the absolute errors\n",
        "correct_predictions = (predictions == test_labels)\n",
        "print(\"correct_predictions\", correct_predictions)\n",
        "print(\"accuracy:\", np.sum(correct_predictions) / test_labels.size)\n",
        "print(\"prediction:\", predictions)\n",
        "print(\"test_labels:\", test_labels)"
      ],
      "execution_count": 37,
      "outputs": [
        {
          "output_type": "stream",
          "text": [
            "[0.11269174 0.11609556 0.11310713 0.09740819 0.12320665 0.14707087\n",
            " 0.0455877  0.1103641  0.13446806]\n",
            "correct_predictions [ True  True  True  True  True  True  True  True  True False  True  True\n",
            "  True  True  True  True  True  True  True  True  True]\n",
            "accuracy: 0.9523809523809523\n",
            "prediction: [ 4  8  6  2  2  6  8  2  1  6 10  2  3  6  1 10  1  7  1  4  3]\n",
            "test_labels: [ 4  8  6  2  2  6  8  2  1 10 10  2  3  6  1 10  1  7  1  4  3]\n"
          ],
          "name": "stdout"
        }
      ]
    },
    {
      "cell_type": "markdown",
      "metadata": {
        "id": "p3V71ht-MDbp",
        "colab_type": "text"
      },
      "source": [
        "## Linear Regression"
      ]
    },
    {
      "cell_type": "code",
      "metadata": {
        "id": "fkoZ-vyNMFhK",
        "colab_type": "code",
        "outputId": "54eaca4e-74e3-4dc0-cad4-a157c3b5b21a",
        "colab": {
          "base_uri": "https://localhost:8080/",
          "height": 34
        }
      },
      "source": [
        "from sklearn.linear_model import LinearRegression\n",
        "\n",
        "# split the features and labels\n",
        "features = np.array(new_table[['average_review', \"longtitude\", \"latitude\", \"icc2016_change\", \"icc2017_change\", \"icc2018_change\", '2016_change', '2017_change', '2018_change']])\n",
        "labels = np.array(new_table['year over year'])\n",
        "\n",
        "# get train/test split\n",
        "train_features, test_features, train_labels, test_labels = train_test_split(features, labels, test_size = 0.25, random_state = 42)\n",
        "\n",
        "lr = LinearRegression()\n",
        "lr_fit = lr.fit(train_features, train_labels)\n",
        "train_score=lr.score(train_features, train_labels)\n",
        "test_score=lr.score(test_features, test_labels)\n",
        "print(train_score, test_score)"
      ],
      "execution_count": 39,
      "outputs": [
        {
          "output_type": "stream",
          "text": [
            "0.49924108446665916 0.38030852205802224\n"
          ],
          "name": "stdout"
        }
      ]
    },
    {
      "cell_type": "markdown",
      "metadata": {
        "id": "IHD2Ojyy_KOU",
        "colab_type": "text"
      },
      "source": [
        "## Ridge Regression"
      ]
    },
    {
      "cell_type": "code",
      "metadata": {
        "id": "lvYV19LtL4kL",
        "colab_type": "code",
        "outputId": "b330af7d-1a08-414b-c0e4-cc6b9b20538f",
        "colab": {
          "base_uri": "https://localhost:8080/",
          "height": 493
        }
      },
      "source": [
        "from sklearn.linear_model import Ridge\n",
        "rr = Ridge(alpha=0.01) \n",
        "# higher the alpha value, more restriction on the coefficients; low alpha > more generalization, coefficients are barely\n",
        "# restricted and in this case linear and ridge regression resembles\n",
        "rr.fit(train_features, train_labels)\n",
        "\n",
        "# Use the forest's predict method on the test data\n",
        "predictions = rr.predict(test_features)\n",
        "# Calculate the absolute errors\n",
        "correct_predictions = (abs(predictions - test_labels) < 0.05)\n",
        "print(\"correct_predictions\", correct_predictions)\n",
        "print(\"accuracy:\", np.sum(correct_predictions) / test_labels.size)\n",
        "print(\"prediction:\", predictions)\n",
        "print(\"test_labels:\", test_labels)\n",
        "\n",
        "# Ridge_train_score = rr.score(train_features, train_labels)\n",
        "# Ridge_test_score = rr.score(test_features, test_labels)\n",
        "\n",
        "rr100 = Ridge(alpha=100) #  comparison with alpha value\n",
        "rr100.fit(train_features, train_labels)\n",
        "\n",
        "# Use the forest's predict method on the test data\n",
        "predictions = rr100.predict(test_features)\n",
        "# Calculate the absolute errors\n",
        "correct_predictions = (abs(predictions - test_labels) < 0.05)\n",
        "print(\"correct_predictions\", correct_predictions)\n",
        "print(\"accuracy:\", np.sum(correct_predictions) / test_labels.size)\n",
        "print(\"prediction:\", predictions)\n",
        "print(\"test_labels:\", test_labels)"
      ],
      "execution_count": 40,
      "outputs": [
        {
          "output_type": "stream",
          "text": [
            "correct_predictions [ True  True  True  True  True False  True  True False False False False\n",
            "  True  True  True False  True  True False  True  True  True  True  True\n",
            "  True  True]\n",
            "accuracy: 0.7307692307692307\n",
            "prediction: [ 0.00988357  0.01885717 -0.01806609 -0.0328662  -0.0328662  -0.04859091\n",
            "  0.05744736 -0.0328662   0.02575672  0.01967889  0.0184559   0.00567675\n",
            " -0.10153043  0.00803528 -0.10696951  0.05447624 -0.10696951  0.00129961\n",
            "  0.02575672 -0.03113503 -0.10153043 -0.02088283 -0.03113503  0.01885717\n",
            " -0.0328662  -0.10153043]\n",
            "test_labels: [-0.03184777  0.04180756  0.00050582 -0.07433545 -0.07433545  0.00202788\n",
            "  0.05704622 -0.07433545 -0.0939048   0.12936047  0.11081162 -0.06017063\n",
            " -0.05185549  0.00453939 -0.14000858  0.11280746 -0.14000858  0.02420343\n",
            " -0.0939048  -0.03866348 -0.05185549  0.00828586 -0.03866348  0.04180756\n",
            " -0.07433545 -0.05185549]\n",
            "correct_predictions [ True  True  True False False  True False False False False False False\n",
            "  True  True False False False  True False  True  True  True  True  True\n",
            " False  True]\n",
            "accuracy: 0.5\n",
            "prediction: [-0.01111833 -0.00814311 -0.00663297 -0.01178133 -0.01178133 -0.01033792\n",
            " -0.00728068 -0.01178133 -0.00949714 -0.00867429 -0.00786168 -0.00488512\n",
            " -0.01101214 -0.00724374 -0.0102863  -0.00331981 -0.0102863  -0.00775111\n",
            " -0.00949714 -0.01038244 -0.01101214 -0.00995056 -0.01038244 -0.00814311\n",
            " -0.01178133 -0.01101214]\n",
            "test_labels: [-0.03184777  0.04180756  0.00050582 -0.07433545 -0.07433545  0.00202788\n",
            "  0.05704622 -0.07433545 -0.0939048   0.12936047  0.11081162 -0.06017063\n",
            " -0.05185549  0.00453939 -0.14000858  0.11280746 -0.14000858  0.02420343\n",
            " -0.0939048  -0.03866348 -0.05185549  0.00828586 -0.03866348  0.04180756\n",
            " -0.07433545 -0.05185549]\n"
          ],
          "name": "stdout"
        }
      ]
    },
    {
      "cell_type": "markdown",
      "metadata": {
        "id": "PBznjIk0tr5I",
        "colab_type": "text"
      },
      "source": [
        "# Predict street score"
      ]
    },
    {
      "cell_type": "markdown",
      "metadata": {
        "id": "qdakOxWcuHHT",
        "colab_type": "text"
      },
      "source": [
        "To predict street score, we the features are the zipcode, longitude, latitude, indoor complaint change, cafe change, inspection change, and the housing price change. The labels are the street score for each zipcode."
      ]
    },
    {
      "cell_type": "markdown",
      "metadata": {
        "id": "Ntzpvr6Sumuh",
        "colab_type": "text"
      },
      "source": [
        ""
      ]
    },
    {
      "cell_type": "code",
      "metadata": {
        "id": "fezSQMpUtjwR",
        "colab_type": "code",
        "colab": {}
      },
      "source": [
        ""
      ],
      "execution_count": 0,
      "outputs": []
    },
    {
      "cell_type": "code",
      "metadata": {
        "id": "-1lJYXOgu0FV",
        "colab_type": "code",
        "colab": {}
      },
      "source": [
        ""
      ],
      "execution_count": 0,
      "outputs": []
    }
  ]
}